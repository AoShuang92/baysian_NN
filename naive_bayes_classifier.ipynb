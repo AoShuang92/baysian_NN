{
  "nbformat": 4,
  "nbformat_minor": 0,
  "metadata": {
    "colab": {
      "name": "naive_bayes_classifier.ipynb",
      "provenance": [],
      "include_colab_link": true
    },
    "kernelspec": {
      "name": "python3",
      "display_name": "Python 3"
    },
    "language_info": {
      "name": "python"
    },
    "accelerator": "GPU"
  },
  "cells": [
    {
      "cell_type": "markdown",
      "metadata": {
        "id": "view-in-github",
        "colab_type": "text"
      },
      "source": [
        "<a href=\"https://colab.research.google.com/github/AoShuang92/baysian_NN/blob/main/naive_bayes_classifier.ipynb\" target=\"_parent\"><img src=\"https://colab.research.google.com/assets/colab-badge.svg\" alt=\"Open In Colab\"/></a>"
      ]
    },
    {
      "cell_type": "code",
      "metadata": {
        "id": "tmtqaVQnrjoJ"
      },
      "source": [
        "import numpy as np\n",
        "from sklearn.datasets import make_blobs\n",
        "\n",
        "import matplotlib.pyplot as plt\n",
        "plt.style.use('fivethirtyeight')"
      ],
      "execution_count": null,
      "outputs": []
    },
    {
      "cell_type": "code",
      "metadata": {
        "colab": {
          "base_uri": "https://localhost:8080/"
        },
        "id": "CHeRCrnluVyw",
        "outputId": "854705ec-a852-452c-c8a2-89237cc29ef6"
      },
      "source": [
        "X, y = make_blobs(n_samples=20, centers=[(0,0), (5,5), (-5, 5)], random_state=0)\n",
        "print(y)\n",
        "print(X)"
      ],
      "execution_count": null,
      "outputs": [
        {
          "output_type": "stream",
          "text": [
            "[2 0 0 0 1 1 0 1 2 2 2 1 0 2 1 0 1 1 0 2]\n",
            "[[-5.34791215  5.15634897]\n",
            " [ 0.14404357  1.45427351]\n",
            " [ 0.97873798  2.2408932 ]\n",
            " [ 1.86755799 -0.97727788]\n",
            " [ 5.3130677   4.14590426]\n",
            " [ 5.44386323  5.33367433]\n",
            " [ 1.76405235  0.40015721]\n",
            " [ 6.49407907  4.79484174]\n",
            " [-5.88778575  3.01920353]\n",
            " [-3.76970932  6.20237985]\n",
            " [-5.38732682  4.69769725]\n",
            " [ 5.04575852  4.81281615]\n",
            " [ 0.76103773  0.12167502]\n",
            " [-4.84505257  5.37816252]\n",
            " [ 5.8644362   4.25783498]\n",
            " [-0.10321885  0.4105985 ]\n",
            " [ 2.44701018  5.6536186 ]\n",
            " [ 7.26975462  3.54563433]\n",
            " [ 0.95008842 -0.15135721]\n",
            " [-3.46722079  6.46935877]]\n"
          ],
          "name": "stdout"
        }
      ]
    },
    {
      "cell_type": "code",
      "metadata": {
        "colab": {
          "base_uri": "https://localhost:8080/"
        },
        "id": "8Hrobk9R0Obn",
        "outputId": "744e88c6-46f1-427f-98ed-daa422f51b2a"
      },
      "source": [
        "np.bincount(y) / len(y) # bincount: count number of occurance of each y"
      ],
      "execution_count": null,
      "outputs": [
        {
          "output_type": "execute_result",
          "data": {
            "text/plain": [
              "array([0.35, 0.35, 0.3 ])"
            ]
          },
          "metadata": {
            "tags": []
          },
          "execution_count": 3
        }
      ]
    },
    {
      "cell_type": "code",
      "metadata": {
        "colab": {
          "base_uri": "https://localhost:8080/",
          "height": 513
        },
        "id": "EMyzxm7pvDq-",
        "outputId": "427e7dfa-31dd-4408-e167-8fbcb77814f8"
      },
      "source": [
        "plt.figure(figsize=(16, 8))\n",
        "for i in range(3):\n",
        "    plt.scatter(X[np.where(y==i), 0], X[np.where(y==i), 1], s=200, label=f'Class $c_{i+1}$')\n",
        "plt.scatter([-2], [5], c='k', s=200)\n",
        "plt.annotate('$x*$', (-1.9, 4.7))\n",
        "plt.xlabel('$x_1$')\n",
        "plt.ylabel('$x_2$')\n",
        "plt.legend()"
      ],
      "execution_count": null,
      "outputs": [
        {
          "output_type": "execute_result",
          "data": {
            "text/plain": [
              "<matplotlib.legend.Legend at 0x7f7d1dcb7490>"
            ]
          },
          "metadata": {
            "tags": []
          },
          "execution_count": 4
        },
        {
          "output_type": "display_data",
          "data": {
            "image/png": "[encoded data removed]",
            "text/plain": [
              "<Figure size 1152x576 with 1 Axes>"
            ]
          },
          "metadata": {
            "tags": [],
            "needs_background": "light"
          }
        }
      ]
    },
    {
      "cell_type": "code",
      "metadata": {
        "id": "69ZrP0htvMBV"
      },
      "source": [
        "import numpy as np\n",
        "from sklearn.base import BaseEstimator, ClassifierMixin\n",
        "from sklearn.utils.validation import check_X_y, check_array, check_is_fitted"
      ],
      "execution_count": null,
      "outputs": []
    },
    {
      "cell_type": "code",
      "metadata": {
        "id": "7zPwAzaxwvS0"
      },
      "source": [
        "class GaussianNaiveBayesClassifier(BaseEstimator, ClassifierMixin):\n",
        "    def fit(self, X, y):\n",
        "        X, y = check_X_y(X, y)\n",
        "        self.priors_ = np.bincount(y) / len(y)\n",
        "        self.n_classes_ = np.max(y) + 1\n",
        "        \n",
        "        self.means_ = np.array([X[np.where(y==i)].mean(axis=0) for i in range(self.n_classes_)])\n",
        "        self.stds_ = np.array([X[np.where(y==i)].std(axis=0) for i in range(self.n_classes_)])\n",
        "        \n",
        "        \n",
        "        return self\n",
        "    \n",
        "    def predict_proba(self, X):\n",
        "        check_is_fitted(self)\n",
        "        X = check_array(X)\n",
        "        \n",
        "        res = []\n",
        "        for i in range(len(X)):\n",
        "            probas = []\n",
        "            for j in range(self.n_classes_):\n",
        "                probas.append((1/np.sqrt(2*np.pi*self.stds_[j]**2)*np.exp(-0.5*((X[i]-self.means_[j])/self.stds_[j])**2)).prod()*self.priors_[j])\n",
        "            probas = np.array(probas)\n",
        "            res.append(probas / probas.sum())\n",
        "            \n",
        "        \n",
        "        return np.array(res)\n",
        "    \n",
        "    def predict(self, X):\n",
        "        check_is_fitted(self)\n",
        "        X = check_array(X)\n",
        "        \n",
        "        res = self.predict_proba(X)\n",
        "        \n",
        "        return res.argmax(axis=1)"
      ],
      "execution_count": null,
      "outputs": []
    },
    {
      "cell_type": "code",
      "metadata": {
        "colab": {
          "base_uri": "https://localhost:8080/"
        },
        "id": "bt0dX-TewzUg",
        "outputId": "39b145b5-54f3-46e9-8b78-b38eee707e75"
      },
      "source": [
        "\n",
        "my_gauss = GaussianNaiveBayesClassifier()\n",
        "my_gauss.fit(X, y)\n",
        "my_gauss.predict_proba([[-2, 5], [0,0], [6, -0.3]])"
      ],
      "execution_count": null,
      "outputs": [
        {
          "output_type": "execute_result",
          "data": {
            "text/plain": [
              "array([[8.06313823e-07, 1.36201957e-04, 9.99862992e-01],\n",
              "       [1.00000000e+00, 4.23258691e-14, 1.92051255e-11],\n",
              "       [4.30879705e-01, 5.69120295e-01, 9.66618838e-27]])"
            ]
          },
          "metadata": {
            "tags": []
          },
          "execution_count": 7
        }
      ]
    },
    {
      "cell_type": "code",
      "metadata": {
        "colab": {
          "base_uri": "https://localhost:8080/"
        },
        "id": "9GA96O-ww3Lx",
        "outputId": "dcca24da-18df-4e2d-aca1-1ab340ac633d"
      },
      "source": [
        "my_gauss.predict([[-2, 5], [0,0], [6, -0.3]])"
      ],
      "execution_count": null,
      "outputs": [
        {
          "output_type": "execute_result",
          "data": {
            "text/plain": [
              "array([2, 0, 1])"
            ]
          },
          "metadata": {
            "tags": []
          },
          "execution_count": 8
        }
      ]
    },
    {
      "cell_type": "code",
      "metadata": {
        "colab": {
          "base_uri": "https://localhost:8080/"
        },
        "id": "yVWOp6KJy6Sm",
        "outputId": "f94c09eb-c63e-4d5c-bdf2-c9a7da5ef86e"
      },
      "source": [
        "from sklearn.naive_bayes import GaussianNB\n",
        "\n",
        "gnb = GaussianNB(var_smoothing=0)\n",
        "gnb.fit(X, y)\n",
        "gnb.predict_proba([[-2, 5], [0,0], [6, -0.3]])"
      ],
      "execution_count": null,
      "outputs": [
        {
          "output_type": "execute_result",
          "data": {
            "text/plain": [
              "array([[8.06313823e-07, 1.36201957e-04, 9.99862992e-01],\n",
              "       [1.00000000e+00, 4.23258691e-14, 1.92051255e-11],\n",
              "       [4.30879705e-01, 5.69120295e-01, 9.66618838e-27]])"
            ]
          },
          "metadata": {
            "tags": []
          },
          "execution_count": 9
        }
      ]
    },
    {
      "cell_type": "code",
      "metadata": {
        "colab": {
          "base_uri": "https://localhost:8080/"
        },
        "id": "wsm9pd1hy9tP",
        "outputId": "165d8490-deb9-4b4c-81cc-568db417cea5"
      },
      "source": [
        "gnb.predict([[-2, 5], [0,0], [6, -0.3]])"
      ],
      "execution_count": null,
      "outputs": [
        {
          "output_type": "execute_result",
          "data": {
            "text/plain": [
              "array([2, 0, 1])"
            ]
          },
          "metadata": {
            "tags": []
          },
          "execution_count": 10
        }
      ]
    },
    {
      "cell_type": "code",
      "metadata": {
        "colab": {
          "base_uri": "https://localhost:8080/",
          "height": 584
        },
        "id": "4BFMqV6wzAU6",
        "outputId": "1a93cc12-f2a2-43b6-ea3d-7b48257878e4"
      },
      "source": [
        "from mlxtend.plotting import plot_decision_regions\n",
        "plt.figure(figsize=(16, 8))\n",
        "plot_decision_regions(X, y, clf=gnb, legend=0, colors='#1f77b4,#ff7f0e,#ffec6e')\n",
        "for i in range(3):\n",
        "    plt.scatter(X[np.where(y==i), 0], X[np.where(y==i), 1], s=200)\n",
        "plt.scatter([-2, 0, 6], [5, 0, -0.3], c='k', s=200)\n",
        "plt.xlabel('$x_1$')\n",
        "plt.ylabel('$x_2$')\n",
        "plt.title('Decision Regions')"
      ],
      "execution_count": null,
      "outputs": [
        {
          "output_type": "stream",
          "text": [
            "/usr/local/lib/python3.7/dist-packages/mlxtend/plotting/decision_regions.py:244: MatplotlibDeprecationWarning: Passing unsupported keyword arguments to axis() will raise a TypeError in 3.3.\n",
            "  ax.axis(xmin=xx.min(), xmax=xx.max(), y_min=yy.min(), y_max=yy.max())\n"
          ],
          "name": "stderr"
        },
        {
          "output_type": "execute_result",
          "data": {
            "text/plain": [
              "Text(0.5, 1.0, 'Decision Regions')"
            ]
          },
          "metadata": {
            "tags": []
          },
          "execution_count": 11
        },
        {
          "output_type": "display_data",
          "data": {
            "image/png": "[encoded data removed]",
            "text/plain": [
              "<Figure size 1152x576 with 1 Axes>"
            ]
          },
          "metadata": {
            "tags": [],
            "needs_background": "light"
          }
        }
      ]
    },
    {
      "cell_type": "code",
      "metadata": {
        "id": "QaMYlWwmzE6t"
      },
      "source": [
        "import torch.nn as nn\n",
        "\n",
        "class newway_torch(nn.Module):\n",
        "    def __init__ (self, in_size=None,hid_size=None, out_size=None):\n",
        "        super(newway_torch,self).__init__()\n",
        "        self.linear=nn.Linear(in_size,hid_size)\n",
        "        self.hidden=nn.Linear(hid_size,hid_size)\n",
        "        self.out= nn.Linear(hid_size,out_size)\n",
        "    def forward(self,x):\n",
        "        output = self.linear(x)\n",
        "        output = self.hidden(output)\n",
        "        output = self.out(output)\n",
        "        return output #.argmax(axis=1)"
      ],
      "execution_count": null,
      "outputs": []
    },
    {
      "cell_type": "code",
      "metadata": {
        "id": "sZQfxoyq2BhU"
      },
      "source": [
        "model = newway_torch(2, 10, 3)"
      ],
      "execution_count": null,
      "outputs": []
    },
    {
      "cell_type": "code",
      "metadata": {
        "id": "6sLWpazm5hT8"
      },
      "source": [
        "import torch\n",
        "optimizer = torch.optim.SGD(model.parameters(), lr = 0.1, momentum=0.1)\n",
        "criterion = nn.CrossEntropyLoss()"
      ],
      "execution_count": null,
      "outputs": []
    },
    {
      "cell_type": "code",
      "metadata": {
        "colab": {
          "base_uri": "https://localhost:8080/"
        },
        "id": "19BjXEDq2LBK",
        "outputId": "b76a9b33-7124-48be-b0bd-a153466e9cdb"
      },
      "source": [
        "model\n",
        "input = torch.Tensor(X)\n",
        "gt = torch.Tensor(y)\n",
        "len(input), len(gt)"
      ],
      "execution_count": null,
      "outputs": [
        {
          "output_type": "execute_result",
          "data": {
            "text/plain": [
              "(20, 20)"
            ]
          },
          "metadata": {
            "tags": []
          },
          "execution_count": 23
        }
      ]
    },
    {
      "cell_type": "code",
      "metadata": {
        "id": "xD9rkS_m6HgG"
      },
      "source": [
        "epochs=5\n",
        "cost = 0\n",
        "for epoch in range(epochs):\n",
        "    model.train()\n",
        "    \n",
        "    optimizer.zero_grad()\n",
        "    pred = model(input)\n",
        "    #print(type(pred), type(gt))\n",
        "    gt = gt.long()\n",
        "    loss = criterion(pred, gt)\n",
        "    loss.backward()\n",
        "    optimizer.step()\n",
        "    cost +=loss.item()"
      ],
      "execution_count": null,
      "outputs": []
    },
    {
      "cell_type": "code",
      "metadata": {
        "id": "PB9I-1Mg2XlN"
      },
      "source": [
        "import torch\n",
        "input = torch.Tensor(X)\n",
        "prediction = model(input)\n",
        "preds = prediction.argmax(axis=1)"
      ],
      "execution_count": null,
      "outputs": []
    },
    {
      "cell_type": "code",
      "metadata": {
        "colab": {
          "base_uri": "https://localhost:8080/"
        },
        "id": "ngpahPkX3uqD",
        "outputId": "cc6e24e2-7073-481b-fda7-ebe39fec13c9"
      },
      "source": [
        "(preds == gt).sum()/len(preds)"
      ],
      "execution_count": null,
      "outputs": [
        {
          "output_type": "execute_result",
          "data": {
            "text/plain": [
              "tensor(0.8500)"
            ]
          },
          "metadata": {
            "tags": []
          },
          "execution_count": 28
        }
      ]
    },
    {
      "cell_type": "code",
      "metadata": {
        "id": "VSBHXbPvCYKQ"
      },
      "source": [
        "class pred ():\n",
        "    def __init__ (self, model):\n",
        "        super(pred,self).__init__() \n",
        "        self.model = model\n",
        "\n",
        "    def predict(self,X):\n",
        "        input = torch.Tensor(X)\n",
        "        output = self.model (input)\n",
        "        final = output.argmax(axis=1)\n",
        "        return np.asarray(final)"
      ],
      "execution_count": null,
      "outputs": []
    },
    {
      "cell_type": "code",
      "metadata": {
        "colab": {
          "base_uri": "https://localhost:8080/"
        },
        "id": "ZklQb8DLAq9f",
        "outputId": "02b072ff-8814-44de-d9f8-bef3b0b3e1a8"
      },
      "source": [
        "final_pred = pred(model)\n",
        "final_pred.predict(X)"
      ],
      "execution_count": null,
      "outputs": [
        {
          "output_type": "execute_result",
          "data": {
            "text/plain": [
              "array([2, 2, 1, 0, 1, 1, 1, 1, 2, 2, 2, 1, 0, 2, 1, 0, 1, 1, 0, 2])"
            ]
          },
          "metadata": {
            "tags": []
          },
          "execution_count": 75
        }
      ]
    },
    {
      "cell_type": "code",
      "metadata": {
        "colab": {
          "base_uri": "https://localhost:8080/",
          "height": 584
        },
        "id": "iWNveShF5BvR",
        "outputId": "d1ba7e58-b032-4519-d178-0dd815940168"
      },
      "source": [
        "from mlxtend.plotting import plot_decision_regions\n",
        "plt.figure(figsize=(16, 8))\n",
        "plot_decision_regions(X, y, clf=final_pred, legend=0, colors='#1f77b4,#ff7f0e,#ffec6e')\n",
        "for i in range(3):\n",
        "    plt.scatter(X[np.where(y==i), 0], X[np.where(y==i), 1], s=200)\n",
        "plt.scatter([-2, 0, 6], [5, 0, -0.3], c='k', s=200)\n",
        "plt.xlabel('$x_1$')\n",
        "plt.ylabel('$x_2$')\n",
        "plt.title('Decision Regions')"
      ],
      "execution_count": null,
      "outputs": [
        {
          "output_type": "stream",
          "text": [
            "/usr/local/lib/python3.7/dist-packages/mlxtend/plotting/decision_regions.py:244: MatplotlibDeprecationWarning: Passing unsupported keyword arguments to axis() will raise a TypeError in 3.3.\n",
            "  ax.axis(xmin=xx.min(), xmax=xx.max(), y_min=yy.min(), y_max=yy.max())\n"
          ],
          "name": "stderr"
        },
        {
          "output_type": "execute_result",
          "data": {
            "text/plain": [
              "Text(0.5, 1.0, 'Decision Regions')"
            ]
          },
          "metadata": {
            "tags": []
          },
          "execution_count": 76
        },
        {
          "output_type": "display_data",
          "data": {
            "image/png": "[encoded data removed]",
            "text/plain": [
              "<Figure size 1152x576 with 1 Axes>"
            ]
          },
          "metadata": {
            "tags": [],
            "needs_background": "light"
          }
        }
      ]
    },
    {
      "cell_type": "code",
      "metadata": {
        "id": "gihwF-k1CPaL"
      },
      "source": [
        ""
      ],
      "execution_count": null,
      "outputs": []
    }
  ]
}